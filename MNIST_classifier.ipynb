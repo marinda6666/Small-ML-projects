{
  "cells": [
    {
      "cell_type": "code",
      "execution_count": null,
      "metadata": {
        "id": "H7pzY-sBid-I"
      },
      "outputs": [],
      "source": [
        "import torch\n",
        "import torchvision\n",
        "import matplotlib.pyplot as plt\n",
        "import cv2\n",
        "from pathlib import Path\n",
        "from PIL import Image\n",
        "from torchvision import transforms\n",
        "from torch import nn"
      ]
    },
    {
      "cell_type": "code",
      "execution_count": null,
      "metadata": {
        "colab": {
          "base_uri": "https://localhost:8080/"
        },
        "id": "nLqF_Y7kqdfO",
        "outputId": "660f2d6e-746b-4bc1-85f3-09ea81d8074a"
      },
      "outputs": [
        {
          "name": "stdout",
          "output_type": "stream",
          "text": [
            "Downloading http://yann.lecun.com/exdb/mnist/train-images-idx3-ubyte.gz\n",
            "Failed to download (trying next):\n",
            "HTTP Error 403: Forbidden\n",
            "\n",
            "Downloading https://ossci-datasets.s3.amazonaws.com/mnist/train-images-idx3-ubyte.gz\n",
            "Downloading https://ossci-datasets.s3.amazonaws.com/mnist/train-images-idx3-ubyte.gz to data/MNIST/raw/train-images-idx3-ubyte.gz\n"
          ]
        },
        {
          "name": "stderr",
          "output_type": "stream",
          "text": [
            "100%|██████████| 9912422/9912422 [00:00<00:00, 35126013.20it/s]\n"
          ]
        },
        {
          "name": "stdout",
          "output_type": "stream",
          "text": [
            "Extracting data/MNIST/raw/train-images-idx3-ubyte.gz to data/MNIST/raw\n",
            "\n",
            "Downloading http://yann.lecun.com/exdb/mnist/train-labels-idx1-ubyte.gz\n",
            "Failed to download (trying next):\n",
            "HTTP Error 403: Forbidden\n",
            "\n",
            "Downloading https://ossci-datasets.s3.amazonaws.com/mnist/train-labels-idx1-ubyte.gz\n",
            "Downloading https://ossci-datasets.s3.amazonaws.com/mnist/train-labels-idx1-ubyte.gz to data/MNIST/raw/train-labels-idx1-ubyte.gz\n"
          ]
        },
        {
          "name": "stderr",
          "output_type": "stream",
          "text": [
            "100%|██████████| 28881/28881 [00:00<00:00, 2341827.17it/s]"
          ]
        },
        {
          "name": "stdout",
          "output_type": "stream",
          "text": [
            "Extracting data/MNIST/raw/train-labels-idx1-ubyte.gz to data/MNIST/raw\n",
            "\n",
            "Downloading http://yann.lecun.com/exdb/mnist/t10k-images-idx3-ubyte.gz\n"
          ]
        },
        {
          "name": "stderr",
          "output_type": "stream",
          "text": [
            "\n"
          ]
        },
        {
          "name": "stdout",
          "output_type": "stream",
          "text": [
            "Failed to download (trying next):\n",
            "HTTP Error 403: Forbidden\n",
            "\n",
            "Downloading https://ossci-datasets.s3.amazonaws.com/mnist/t10k-images-idx3-ubyte.gz\n",
            "Downloading https://ossci-datasets.s3.amazonaws.com/mnist/t10k-images-idx3-ubyte.gz to data/MNIST/raw/t10k-images-idx3-ubyte.gz\n"
          ]
        },
        {
          "name": "stderr",
          "output_type": "stream",
          "text": [
            "100%|██████████| 1648877/1648877 [00:00<00:00, 11291066.92it/s]\n"
          ]
        },
        {
          "name": "stdout",
          "output_type": "stream",
          "text": [
            "Extracting data/MNIST/raw/t10k-images-idx3-ubyte.gz to data/MNIST/raw\n",
            "\n",
            "Downloading http://yann.lecun.com/exdb/mnist/t10k-labels-idx1-ubyte.gz\n",
            "Failed to download (trying next):\n",
            "HTTP Error 403: Forbidden\n",
            "\n",
            "Downloading https://ossci-datasets.s3.amazonaws.com/mnist/t10k-labels-idx1-ubyte.gz\n",
            "Downloading https://ossci-datasets.s3.amazonaws.com/mnist/t10k-labels-idx1-ubyte.gz to data/MNIST/raw/t10k-labels-idx1-ubyte.gz\n"
          ]
        },
        {
          "name": "stderr",
          "output_type": "stream",
          "text": [
            "100%|██████████| 4542/4542 [00:00<00:00, 1599674.93it/s]\n"
          ]
        },
        {
          "name": "stdout",
          "output_type": "stream",
          "text": [
            "Extracting data/MNIST/raw/t10k-labels-idx1-ubyte.gz to data/MNIST/raw\n",
            "\n"
          ]
        }
      ],
      "source": [
        "MNIST_dataset = torchvision.datasets.MNIST(root='data',\n",
        "                          train=True,\n",
        "                          download=True,\n",
        "                          transform=transforms.ToTensor())"
      ]
    },
    {
      "cell_type": "code",
      "execution_count": null,
      "metadata": {
        "colab": {
          "base_uri": "https://localhost:8080/"
        },
        "id": "C3ZEKTfbra3z",
        "outputId": "d54a8fb9-73d7-4245-d3bd-1f9c0f8a3d79"
      },
      "outputs": [
        {
          "data": {
            "text/plain": [
              "Dataset MNIST\n",
              "    Number of datapoints: 60000\n",
              "    Root location: data\n",
              "    Split: Train\n",
              "    StandardTransform\n",
              "Transform: ToTensor()"
            ]
          },
          "execution_count": 3,
          "metadata": {},
          "output_type": "execute_result"
        }
      ],
      "source": [
        "MNIST_dataset"
      ]
    },
    {
      "cell_type": "code",
      "execution_count": null,
      "metadata": {
        "colab": {
          "base_uri": "https://localhost:8080/",
          "height": 428
        },
        "id": "TxSBY8gdrkPN",
        "outputId": "629d4a20-3fba-4255-b87c-79f986dda39c"
      },
      "outputs": [
        {
          "data": {
            "image/png": "[encoded data removed]",
            "text/plain": [
              "<Figure size 640x480 with 1 Axes>"
            ]
          },
          "metadata": {},
          "output_type": "display_data"
        }
      ],
      "source": [
        "plt.imshow(MNIST_dataset[0][0].permute(1, 2, 0), cmap='binary');\n",
        "plt.axis(False);\n",
        "plt.title(MNIST_dataset[0][1]);"
      ]
    },
    {
      "cell_type": "code",
      "execution_count": null,
      "metadata": {
        "id": "UvrLf3DPw4Gd"
      },
      "outputs": [],
      "source": [
        "MNIST_data = torch.stack([i[0] for i in MNIST_dataset])\n",
        "MNIST_labels = torch.Tensor([i[1] for i in MNIST_dataset])"
      ]
    },
    {
      "cell_type": "code",
      "execution_count": null,
      "metadata": {
        "colab": {
          "base_uri": "https://localhost:8080/"
        },
        "id": "K5GozUBzrfLN",
        "outputId": "f0624e27-6753-4b6f-e5e1-66923dc8fff9"
      },
      "outputs": [
        {
          "data": {
            "text/plain": [
              "(torch.Size([42000, 1, 28, 28]),\n",
              " torch.Size([18000, 1, 28, 28]),\n",
              " torch.Size([42000]),\n",
              " torch.Size([18000]))"
            ]
          },
          "execution_count": 6,
          "metadata": {},
          "output_type": "execute_result"
        }
      ],
      "source": [
        "from sklearn.model_selection import train_test_split\n",
        "X_train, X_test, y_train, y_test = train_test_split(MNIST_data, MNIST_labels, test_size=0.3, shuffle=True)\n",
        "X_train.shape, X_test.shape, y_train.shape, y_test.shape"
      ]
    },
    {
      "cell_type": "code",
      "execution_count": null,
      "metadata": {
        "colab": {
          "base_uri": "https://localhost:8080/"
        },
        "id": "I1hG0f8vuOMU",
        "outputId": "0057a023-f874-414f-bf88-b325ef4bc0d8"
      },
      "outputs": [
        {
          "data": {
            "text/plain": [
              "(18000, list)"
            ]
          },
          "execution_count": 7,
          "metadata": {},
          "output_type": "execute_result"
        }
      ],
      "source": [
        "train_size = int(len(MNIST_dataset) * 0.7)\n",
        "train_dataset = [MNIST_dataset[i] for i in range(train_size)]\n",
        "test_dataset = [MNIST_dataset[i] for i in range(train_size, len(MNIST_dataset))]\n",
        "len(train_dataset), type(train_dataset)\n",
        "len(test_dataset), type(test_dataset)"
      ]
    },
    {
      "cell_type": "code",
      "execution_count": null,
      "metadata": {
        "colab": {
          "base_uri": "https://localhost:8080/",
          "height": 428
        },
        "id": "on10GT_7QJnw",
        "outputId": "bf8be739-43c3-4eec-bff9-8995e28b47df"
      },
      "outputs": [
        {
          "data": {
            "image/png": "[encoded data removed]",
            "text/plain": [
              "<Figure size 640x480 with 1 Axes>"
            ]
          },
          "metadata": {},
          "output_type": "display_data"
        }
      ],
      "source": [
        "img, lbl = X_test[1000], y_test[1000]\n",
        "plt.imshow(img.permute(1, 2, 0));\n",
        "plt.axis(False);\n",
        "plt.title(lbl.type(torch.int).item());"
      ]
    },
    {
      "cell_type": "code",
      "execution_count": null,
      "metadata": {
        "colab": {
          "base_uri": "https://localhost:8080/"
        },
        "id": "XpCzsjEv8ybF",
        "outputId": "cc81b6e7-4805-4025-9f40-6e6fa5528e76"
      },
      "outputs": [
        {
          "data": {
            "text/plain": [
              "1313"
            ]
          },
          "execution_count": 9,
          "metadata": {},
          "output_type": "execute_result"
        }
      ],
      "source": [
        "from torch.utils.data import DataLoader\n",
        "train_dataloader = DataLoader(train_dataset, 32, True)\n",
        "test_dataloader = DataLoader(test_dataset, 32, True)\n",
        "len(train_dataloader)"
      ]
    },
    {
      "cell_type": "code",
      "execution_count": null,
      "metadata": {
        "colab": {
          "base_uri": "https://localhost:8080/"
        },
        "id": "KrkBXw2mtWCo",
        "outputId": "c647eee5-0f23-4b0a-8cbd-8c19d357187d"
      },
      "outputs": [
        {
          "data": {
            "text/plain": [
              "[tensor([[[[0., 0., 0.,  ..., 0., 0., 0.],\n",
              "           [0., 0., 0.,  ..., 0., 0., 0.],\n",
              "           [0., 0., 0.,  ..., 0., 0., 0.],\n",
              "           ...,\n",
              "           [0., 0., 0.,  ..., 0., 0., 0.],\n",
              "           [0., 0., 0.,  ..., 0., 0., 0.],\n",
              "           [0., 0., 0.,  ..., 0., 0., 0.]]],\n",
              " \n",
              " \n",
              "         [[[0., 0., 0.,  ..., 0., 0., 0.],\n",
              "           [0., 0., 0.,  ..., 0., 0., 0.],\n",
              "           [0., 0., 0.,  ..., 0., 0., 0.],\n",
              "           ...,\n",
              "           [0., 0., 0.,  ..., 0., 0., 0.],\n",
              "           [0., 0., 0.,  ..., 0., 0., 0.],\n",
              "           [0., 0., 0.,  ..., 0., 0., 0.]]],\n",
              " \n",
              " \n",
              "         [[[0., 0., 0.,  ..., 0., 0., 0.],\n",
              "           [0., 0., 0.,  ..., 0., 0., 0.],\n",
              "           [0., 0., 0.,  ..., 0., 0., 0.],\n",
              "           ...,\n",
              "           [0., 0., 0.,  ..., 0., 0., 0.],\n",
              "           [0., 0., 0.,  ..., 0., 0., 0.],\n",
              "           [0., 0., 0.,  ..., 0., 0., 0.]]],\n",
              " \n",
              " \n",
              "         ...,\n",
              " \n",
              " \n",
              "         [[[0., 0., 0.,  ..., 0., 0., 0.],\n",
              "           [0., 0., 0.,  ..., 0., 0., 0.],\n",
              "           [0., 0., 0.,  ..., 0., 0., 0.],\n",
              "           ...,\n",
              "           [0., 0., 0.,  ..., 0., 0., 0.],\n",
              "           [0., 0., 0.,  ..., 0., 0., 0.],\n",
              "           [0., 0., 0.,  ..., 0., 0., 0.]]],\n",
              " \n",
              " \n",
              "         [[[0., 0., 0.,  ..., 0., 0., 0.],\n",
              "           [0., 0., 0.,  ..., 0., 0., 0.],\n",
              "           [0., 0., 0.,  ..., 0., 0., 0.],\n",
              "           ...,\n",
              "           [0., 0., 0.,  ..., 0., 0., 0.],\n",
              "           [0., 0., 0.,  ..., 0., 0., 0.],\n",
              "           [0., 0., 0.,  ..., 0., 0., 0.]]],\n",
              " \n",
              " \n",
              "         [[[0., 0., 0.,  ..., 0., 0., 0.],\n",
              "           [0., 0., 0.,  ..., 0., 0., 0.],\n",
              "           [0., 0., 0.,  ..., 0., 0., 0.],\n",
              "           ...,\n",
              "           [0., 0., 0.,  ..., 0., 0., 0.],\n",
              "           [0., 0., 0.,  ..., 0., 0., 0.],\n",
              "           [0., 0., 0.,  ..., 0., 0., 0.]]]]),\n",
              " tensor([4, 6, 2, 1, 5, 1, 9, 6, 1, 0, 8, 0, 5, 8, 9, 3, 0, 4, 9, 1, 2, 5, 0, 1,\n",
              "         0, 7, 6, 1, 8, 6, 4, 8])]"
            ]
          },
          "execution_count": 10,
          "metadata": {},
          "output_type": "execute_result"
        }
      ],
      "source": [
        "list(train_dataloader)[0]"
      ]
    },
    {
      "cell_type": "code",
      "execution_count": null,
      "metadata": {
        "id": "zCAYWg56PlQI"
      },
      "outputs": [],
      "source": [
        "class MNIST_LINEAR(nn.Module):\n",
        "  def __init__(self):\n",
        "    super().__init__()\n",
        "    self.stack = nn.Sequential(\n",
        "        nn.Flatten(),\n",
        "        nn.Linear(784, 16),\n",
        "        nn.ReLU(),\n",
        "        nn.Linear(16, 16),\n",
        "        nn.ReLU(),\n",
        "        nn.Linear(16, 10)\n",
        "    )\n",
        "\n",
        "  def forward(self, x):\n",
        "   return self.stack(x)\n",
        "model_0 = MNIST_LINEAR()\n",
        "loss_fn = nn.CrossEntropyLoss()\n",
        "optimizer = torch.optim.Adam(params=model_0.parameters(), lr=0.01)"
      ]
    },
    {
      "cell_type": "code",
      "execution_count": null,
      "metadata": {
        "id": "BB200lSunKZY"
      },
      "outputs": [],
      "source": [
        "class MNIST_CNN(nn.Module):\n",
        "  def __init__(self):\n",
        "    super().__init__()\n",
        "    self.stack = nn.Sequential(\n",
        "        nn.Conv2d(1, 8, 3, 1),\n",
        "        nn.ReLU(),\n",
        "        nn.Conv2d(8, 8, 3, 1),\n",
        "        nn.Flatten(),\n",
        "        nn.Linear(4608, 10)\n",
        "    )\n",
        "\n",
        "  def forward(self, x):\n",
        "   return self.stack(x)\n",
        "model_0 = MNIST_CNN()\n",
        "loss_fn = nn.CrossEntropyLoss()\n",
        "optimizer = torch.optim.Adam(params=model_0.parameters(), lr=0.01)"
      ]
    },
    {
      "cell_type": "code",
      "execution_count": null,
      "metadata": {
        "colab": {
          "base_uri": "https://localhost:8080/"
        },
        "id": "7fl-E3jZ2Lyc",
        "outputId": "29cd6cb7-6ffe-4264-ce74-49fa561109e2"
      },
      "outputs": [
        {
          "data": {
            "text/plain": [
              "torch.Size([1, 28, 28])"
            ]
          },
          "execution_count": 13,
          "metadata": {},
          "output_type": "execute_result"
        }
      ],
      "source": [
        "list(train_dataloader)[0][0][0].shape"
      ]
    },
    {
      "cell_type": "code",
      "execution_count": null,
      "metadata": {
        "colab": {
          "base_uri": "https://localhost:8080/"
        },
        "id": "kWZus2XY1jBW",
        "outputId": "d59313c7-4b71-4540-ac5c-329fd808adab"
      },
      "outputs": [
        {
          "data": {
            "text/plain": [
              "tensor([[-0.1100,  0.0670, -0.0519, -0.0012,  0.0327, -0.0382, -0.1297, -0.0281,\n",
              "         -0.0594, -0.1042]], grad_fn=<AddmmBackward0>)"
            ]
          },
          "execution_count": 14,
          "metadata": {},
          "output_type": "execute_result"
        }
      ],
      "source": [
        "model_0(list(train_dataloader)[0][0][0].unsqueeze(0))"
      ]
    },
    {
      "cell_type": "code",
      "execution_count": null,
      "metadata": {
        "id": "r2dkb4H23O_1"
      },
      "outputs": [],
      "source": [
        "from sklearn.metrics import accuracy_score"
      ]
    },
    {
      "cell_type": "code",
      "execution_count": null,
      "metadata": {
        "colab": {
          "background_save": true,
          "base_uri": "https://localhost:8080/"
        },
        "id": "Ojdkvs14xDiW",
        "outputId": "31af243d-4368-4c53-ff11-60ee7a0c8f4c"
      },
      "outputs": [
        {
          "name": "stderr",
          "output_type": "stream",
          "text": [
            "\r  0%|          | 0/5 [00:00<?, ?it/s]"
          ]
        },
        {
          "name": "stdout",
          "output_type": "stream",
          "text": [
            "\n",
            "--------1--------\n"
          ]
        },
        {
          "name": "stderr",
          "output_type": "stream",
          "text": [
            "\r 20%|██        | 1/5 [00:14<00:56, 14.07s/it]"
          ]
        },
        {
          "name": "stdout",
          "output_type": "stream",
          "text": [
            "TRAIN: acc -  93.531% loss -  0.21545\n",
            "TEST: acc -  95.654% loss -  0.16084\n",
            "\n",
            "--------2--------\n"
          ]
        },
        {
          "name": "stderr",
          "output_type": "stream",
          "text": [
            "\r 40%|████      | 2/5 [00:27<00:41, 13.86s/it]"
          ]
        },
        {
          "name": "stdout",
          "output_type": "stream",
          "text": [
            "TRAIN: acc -  96.301% loss -  0.13002\n",
            "TEST: acc -  95.493% loss -  0.15125\n",
            "\n",
            "--------3--------\n"
          ]
        },
        {
          "name": "stderr",
          "output_type": "stream",
          "text": [
            "\r 60%|██████    | 3/5 [00:41<00:27, 13.77s/it]"
          ]
        },
        {
          "name": "stdout",
          "output_type": "stream",
          "text": [
            "TRAIN: acc -  96.811% loss -  0.11529\n",
            "TEST: acc -  96.609% loss -  0.16262\n",
            "\n",
            "--------4--------\n"
          ]
        },
        {
          "name": "stderr",
          "output_type": "stream",
          "text": [
            "\r 80%|████████  | 4/5 [00:56<00:14, 14.22s/it]"
          ]
        },
        {
          "name": "stdout",
          "output_type": "stream",
          "text": [
            "TRAIN: acc -  96.939% loss -  0.11690\n",
            "TEST: acc -  96.287% loss -  0.19166\n",
            "\n",
            "--------5--------\n"
          ]
        },
        {
          "name": "stderr",
          "output_type": "stream",
          "text": [
            "100%|██████████| 5/5 [01:09<00:00, 13.96s/it]"
          ]
        },
        {
          "name": "stdout",
          "output_type": "stream",
          "text": [
            "TRAIN: acc -  97.025% loss -  0.12375\n",
            "TEST: acc -  96.392% loss -  0.20166\n"
          ]
        },
        {
          "name": "stderr",
          "output_type": "stream",
          "text": [
            "\n"
          ]
        }
      ],
      "source": [
        "from tqdm import tqdm\n",
        "EPOCHS = 5\n",
        "for epoch in tqdm(range(1, EPOCHS + 1)):\n",
        "  print(f'\\n--------{epoch}--------')\n",
        "  train_loss, train_acc = 0, 0\n",
        "  for batch, (X, y) in enumerate(train_dataloader):\n",
        "    model_0.train()\n",
        "    y_pred = model_0(X)\n",
        "    loss = loss_fn(y_pred, y)\n",
        "    acc = accuracy_score(y, y_pred.argmax(1))\n",
        "    optimizer.zero_grad()\n",
        "    loss.backward()\n",
        "    optimizer.step()\n",
        "    train_loss += loss\n",
        "    train_acc += acc\n",
        "  with torch.inference_mode():\n",
        "    test_loss, test_acc = 0, 0\n",
        "    for batch, (X, y) in enumerate(test_dataloader):\n",
        "      model_0.eval()\n",
        "      y_pred = model_0(X)\n",
        "      loss = loss_fn(y_pred, y)\n",
        "      acc = accuracy_score(y, y_pred.argmax(1))\n",
        "      test_loss += loss\n",
        "      test_acc += acc\n",
        "  print(f'TRAIN: acc - {train_acc * 100 / len(train_dataloader): 0.3f}% loss - {train_loss / len(train_dataloader): 0.5f}')\n",
        "  print(f'TEST: acc - {test_acc * 100 / len(test_dataloader): 0.3f}% loss - {test_loss / len(test_dataloader): 0.5f}')"
      ]
    },
    {
      "cell_type": "code",
      "execution_count": null,
      "metadata": {
        "colab": {
          "base_uri": "https://localhost:8080/",
          "height": 449
        },
        "id": "t_MQQDRu7f1Z",
        "outputId": "b881e38a-4f49-4585-e591-3914239b4991"
      },
      "outputs": [
        {
          "data": {
            "image/png": "[encoded data removed]",
            "text/plain": [
              "<Figure size 640x480 with 1 Axes>"
            ]
          },
          "metadata": {},
          "output_type": "display_data"
        }
      ],
      "source": [
        "import random\n",
        "img, lbl = random.sample(test_dataset, 1)[0]\n",
        "plt.imshow(img.permute(1, 2, 0), cmap='binary');\n",
        "plt.axis(False);\n",
        "pred = model_0(img.unsqueeze(0)).softmax(1).argmax(1)\n",
        "if pred == lbl:\n",
        "  plt.title(f'LABLE: {lbl}\\nPRED:{pred.item()}', c='green')\n",
        "else:\n",
        "  plt.title(f'LABLE: {lbl}\\nPRED:{pred.item()}', c='red')"
      ]
    }
  ],
  "metadata": {
    "colab": {
      "provenance": []
    },
    "kernelspec": {
      "display_name": "Python 3",
      "name": "python3"
    },
    "language_info": {
      "name": "python"
    }
  },
  "nbformat": 4,
  "nbformat_minor": 0
}
